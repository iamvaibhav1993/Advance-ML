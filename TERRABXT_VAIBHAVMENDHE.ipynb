{
 "cells": [
  {
   "cell_type": "code",
   "execution_count": 2,
   "metadata": {},
   "outputs": [],
   "source": [
    "import pandas as pd\n",
    "import numpy as np\n",
    "from datetime import datetime\n",
    "from sklearn.linear_model import LinearRegression"
   ]
  },
  {
   "cell_type": "code",
   "execution_count": 9,
   "metadata": {},
   "outputs": [
    {
     "data": {
      "text/html": [
       "<div>\n",
       "<style scoped>\n",
       "    .dataframe tbody tr th:only-of-type {\n",
       "        vertical-align: middle;\n",
       "    }\n",
       "\n",
       "    .dataframe tbody tr th {\n",
       "        vertical-align: top;\n",
       "    }\n",
       "\n",
       "    .dataframe thead th {\n",
       "        text-align: right;\n",
       "    }\n",
       "</style>\n",
       "<table border=\"1\" class=\"dataframe\">\n",
       "  <thead>\n",
       "    <tr style=\"text-align: right;\">\n",
       "      <th></th>\n",
       "      <th>id</th>\n",
       "      <th>feature_1</th>\n",
       "      <th>feature_2</th>\n",
       "    </tr>\n",
       "    <tr>\n",
       "      <th>time</th>\n",
       "      <th></th>\n",
       "      <th></th>\n",
       "      <th></th>\n",
       "    </tr>\n",
       "  </thead>\n",
       "  <tbody>\n",
       "    <tr>\n",
       "      <td>2019-03-19 00:00:00</td>\n",
       "      <td>0</td>\n",
       "      <td>735.740043</td>\n",
       "      <td>54479.540513</td>\n",
       "    </tr>\n",
       "    <tr>\n",
       "      <td>2019-03-19 00:00:10</td>\n",
       "      <td>1</td>\n",
       "      <td>734.102947</td>\n",
       "      <td>47888.033714</td>\n",
       "    </tr>\n",
       "    <tr>\n",
       "      <td>2019-03-19 00:00:20</td>\n",
       "      <td>2</td>\n",
       "      <td>730.060336</td>\n",
       "      <td>47700.882325</td>\n",
       "    </tr>\n",
       "    <tr>\n",
       "      <td>2019-03-19 00:00:30</td>\n",
       "      <td>3</td>\n",
       "      <td>725.609742</td>\n",
       "      <td>47790.094648</td>\n",
       "    </tr>\n",
       "    <tr>\n",
       "      <td>2019-03-19 00:00:40</td>\n",
       "      <td>4</td>\n",
       "      <td>724.328480</td>\n",
       "      <td>47808.402381</td>\n",
       "    </tr>\n",
       "  </tbody>\n",
       "</table>\n",
       "</div>"
      ],
      "text/plain": [
       "                     id   feature_1     feature_2\n",
       "time                                             \n",
       "2019-03-19 00:00:00   0  735.740043  54479.540513\n",
       "2019-03-19 00:00:10   1  734.102947  47888.033714\n",
       "2019-03-19 00:00:20   2  730.060336  47700.882325\n",
       "2019-03-19 00:00:30   3  725.609742  47790.094648\n",
       "2019-03-19 00:00:40   4  724.328480  47808.402381"
      ]
     },
     "execution_count": 9,
     "metadata": {},
     "output_type": "execute_result"
    }
   ],
   "source": [
    "train_data = pd.read_csv(\"C:/Users/This pc/Desktop/into-the-future/train.csv\",index_col='time',parse_dates=True)\n",
    "train_data.head()"
   ]
  },
  {
   "cell_type": "code",
   "execution_count": 10,
   "metadata": {},
   "outputs": [
    {
     "name": "stdout",
     "output_type": "stream",
     "text": [
      "<class 'pandas.core.frame.DataFrame'>\n",
      "DatetimeIndex: 564 entries, 2019-03-19 00:00:00 to 2019-03-19 01:33:50\n",
      "Data columns (total 3 columns):\n",
      "id           564 non-null int64\n",
      "feature_1    564 non-null float64\n",
      "feature_2    564 non-null float64\n",
      "dtypes: float64(2), int64(1)\n",
      "memory usage: 17.6 KB\n"
     ]
    }
   ],
   "source": [
    "train_data.info()"
   ]
  },
  {
   "cell_type": "code",
   "execution_count": 11,
   "metadata": {},
   "outputs": [],
   "source": [
    "dateparse = lambda dates: pd.datetime.strptime(dates, \"%Y-%m-%d %H:%M:%S\")\n",
    "train_data = pd.read_csv(\"C:/Users/This pc/Desktop/into-the-future/train.csv\", parse_dates=['time'], date_parser=dateparse)"
   ]
  },
  {
   "cell_type": "code",
   "execution_count": 12,
   "metadata": {},
   "outputs": [],
   "source": [
    "#converting the date-time object into float object\n",
    "\n",
    "def datetime_to_float(d):\n",
    "    return d.timestamp()\n",
    "\n",
    "for i in range(len(train_data[\"time\"])):\n",
    "    train_data.loc[i, \"time\"]=datetime_to_float(train_data.loc[i, \"time\"])"
   ]
  },
  {
   "cell_type": "code",
   "execution_count": 13,
   "metadata": {},
   "outputs": [],
   "source": [
    "x=train_data.loc[:, [\"time\"]] #featuers\n",
    "y=train_data[\"feature_2\"] #labels"
   ]
  },
  {
   "cell_type": "code",
   "execution_count": 14,
   "metadata": {},
   "outputs": [
    {
     "data": {
      "text/plain": [
       "LinearRegression(copy_X=True, fit_intercept=True, n_jobs=None, normalize=False)"
      ]
     },
     "execution_count": 14,
     "metadata": {},
     "output_type": "execute_result"
    }
   ],
   "source": [
    "#creating an object of linear regression model and trainng it on training data\n",
    "\n",
    "reg = LinearRegression()\n",
    "reg.fit(x, y)"
   ]
  },
  {
   "cell_type": "code",
   "execution_count": 15,
   "metadata": {},
   "outputs": [
    {
     "data": {
      "text/html": [
       "<div>\n",
       "<style scoped>\n",
       "    .dataframe tbody tr th:only-of-type {\n",
       "        vertical-align: middle;\n",
       "    }\n",
       "\n",
       "    .dataframe tbody tr th {\n",
       "        vertical-align: top;\n",
       "    }\n",
       "\n",
       "    .dataframe thead th {\n",
       "        text-align: right;\n",
       "    }\n",
       "</style>\n",
       "<table border=\"1\" class=\"dataframe\">\n",
       "  <thead>\n",
       "    <tr style=\"text-align: right;\">\n",
       "      <th></th>\n",
       "      <th>id</th>\n",
       "      <th>time</th>\n",
       "      <th>feature_1</th>\n",
       "    </tr>\n",
       "  </thead>\n",
       "  <tbody>\n",
       "    <tr>\n",
       "      <td>0</td>\n",
       "      <td>564</td>\n",
       "      <td>2019-03-19 01:34:00</td>\n",
       "      <td>423.064004</td>\n",
       "    </tr>\n",
       "    <tr>\n",
       "      <td>1</td>\n",
       "      <td>565</td>\n",
       "      <td>2019-03-19 01:34:10</td>\n",
       "      <td>423.342749</td>\n",
       "    </tr>\n",
       "    <tr>\n",
       "      <td>2</td>\n",
       "      <td>566</td>\n",
       "      <td>2019-03-19 01:34:20</td>\n",
       "      <td>423.181186</td>\n",
       "    </tr>\n",
       "    <tr>\n",
       "      <td>3</td>\n",
       "      <td>567</td>\n",
       "      <td>2019-03-19 01:34:30</td>\n",
       "      <td>421.275243</td>\n",
       "    </tr>\n",
       "    <tr>\n",
       "      <td>4</td>\n",
       "      <td>568</td>\n",
       "      <td>2019-03-19 01:34:40</td>\n",
       "      <td>422.208444</td>\n",
       "    </tr>\n",
       "  </tbody>\n",
       "</table>\n",
       "</div>"
      ],
      "text/plain": [
       "    id                 time   feature_1\n",
       "0  564  2019-03-19 01:34:00  423.064004\n",
       "1  565  2019-03-19 01:34:10  423.342749\n",
       "2  566  2019-03-19 01:34:20  423.181186\n",
       "3  567  2019-03-19 01:34:30  421.275243\n",
       "4  568  2019-03-19 01:34:40  422.208444"
      ]
     },
     "execution_count": 15,
     "metadata": {},
     "output_type": "execute_result"
    }
   ],
   "source": [
    "#loading test data into a new dataframe\n",
    "\n",
    "test_Data=pd.read_csv(\"C:/Users/This pc/Desktop/into-the-future/test.csv\")\n",
    "test_Data.head()"
   ]
  },
  {
   "cell_type": "code",
   "execution_count": 16,
   "metadata": {},
   "outputs": [],
   "source": [
    "dateparse = lambda dates: pd.datetime.strptime(dates, \"%Y-%m-%d %H:%M:%S\")\n",
    "test_Data = pd.read_csv(\"C:/Users/This pc/Desktop/into-the-future/test.csv\", parse_dates=['time'], date_parser=dateparse)"
   ]
  },
  {
   "cell_type": "code",
   "execution_count": 17,
   "metadata": {},
   "outputs": [],
   "source": [
    "for i in range(len(test_Data[\"time\"])):\n",
    "    test_Data.loc[i, \"time\"]=datetime_to_float(test_Data.loc[i, \"time\"])"
   ]
  },
  {
   "cell_type": "code",
   "execution_count": 18,
   "metadata": {},
   "outputs": [
    {
     "data": {
      "text/html": [
       "<div>\n",
       "<style scoped>\n",
       "    .dataframe tbody tr th:only-of-type {\n",
       "        vertical-align: middle;\n",
       "    }\n",
       "\n",
       "    .dataframe tbody tr th {\n",
       "        vertical-align: top;\n",
       "    }\n",
       "\n",
       "    .dataframe thead th {\n",
       "        text-align: right;\n",
       "    }\n",
       "</style>\n",
       "<table border=\"1\" class=\"dataframe\">\n",
       "  <thead>\n",
       "    <tr style=\"text-align: right;\">\n",
       "      <th></th>\n",
       "      <th>id</th>\n",
       "      <th>time</th>\n",
       "      <th>feature_1</th>\n",
       "    </tr>\n",
       "  </thead>\n",
       "  <tbody>\n",
       "    <tr>\n",
       "      <td>0</td>\n",
       "      <td>564</td>\n",
       "      <td>1552959240</td>\n",
       "      <td>423.064004</td>\n",
       "    </tr>\n",
       "    <tr>\n",
       "      <td>1</td>\n",
       "      <td>565</td>\n",
       "      <td>1552959250</td>\n",
       "      <td>423.342749</td>\n",
       "    </tr>\n",
       "    <tr>\n",
       "      <td>2</td>\n",
       "      <td>566</td>\n",
       "      <td>1552959260</td>\n",
       "      <td>423.181186</td>\n",
       "    </tr>\n",
       "    <tr>\n",
       "      <td>3</td>\n",
       "      <td>567</td>\n",
       "      <td>1552959270</td>\n",
       "      <td>421.275243</td>\n",
       "    </tr>\n",
       "    <tr>\n",
       "      <td>4</td>\n",
       "      <td>568</td>\n",
       "      <td>1552959280</td>\n",
       "      <td>422.208444</td>\n",
       "    </tr>\n",
       "  </tbody>\n",
       "</table>\n",
       "</div>"
      ],
      "text/plain": [
       "    id        time   feature_1\n",
       "0  564  1552959240  423.064004\n",
       "1  565  1552959250  423.342749\n",
       "2  566  1552959260  423.181186\n",
       "3  567  1552959270  421.275243\n",
       "4  568  1552959280  422.208444"
      ]
     },
     "execution_count": 18,
     "metadata": {},
     "output_type": "execute_result"
    }
   ],
   "source": [
    "test_Data.head()"
   ]
  },
  {
   "cell_type": "code",
   "execution_count": 19,
   "metadata": {},
   "outputs": [],
   "source": [
    "x_test=test_Data.loc[:, [\"time\"]]\n",
    "ids=test_Data[\"id\"]"
   ]
  },
  {
   "cell_type": "code",
   "execution_count": 21,
   "metadata": {},
   "outputs": [],
   "source": [
    "#predicting the \"feature_2\" value using the Multiple linear regression model created above\n",
    "\n",
    "y_pred=reg.predict(x_test)"
   ]
  },
  {
   "cell_type": "code",
   "execution_count": 22,
   "metadata": {},
   "outputs": [
    {
     "data": {
      "text/plain": [
       "array([54791.6095283 , 54799.76592684, 54807.92232537, 54816.07872391,\n",
       "       54824.23512244, 54832.39152098, 54840.54791951, 54848.70431805,\n",
       "       54856.86071658, 54865.01711512, 54873.17351365, 54881.32991219,\n",
       "       54889.48631072, 54897.64270926, 54905.79910779, 54913.95550632,\n",
       "       54922.11190486, 54930.26830339, 54938.42470193, 54946.58110046,\n",
       "       54954.737499  , 54962.89389753, 54971.05029607, 54979.2066946 ,\n",
       "       54987.36309314, 54995.51949167, 55003.67589021, 55011.83228874,\n",
       "       55019.98868728, 55028.14508581, 55036.30148435, 55044.45788288,\n",
       "       55052.61428142, 55060.77067995, 55068.92707849, 55077.08347702,\n",
       "       55085.23987556, 55093.39627409, 55101.55267262, 55109.70907116,\n",
       "       55117.86546969, 55126.02186823, 55134.17826676, 55142.3346653 ,\n",
       "       55150.49106383, 55158.64746237, 55166.8038609 , 55174.96025944,\n",
       "       55183.11665797, 55191.27305651, 55199.42945504, 55207.58585358,\n",
       "       55215.74225211, 55223.89865065, 55232.05504918, 55240.21144772,\n",
       "       55248.36784625, 55256.52424479, 55264.68064332, 55272.83704185,\n",
       "       55280.99344039, 55289.14983892, 55297.30623746, 55305.46263623,\n",
       "       55313.61903477, 55321.7754333 , 55329.93183184, 55338.08823037,\n",
       "       55346.24462891, 55354.40102744, 55362.55742598, 55370.71382451,\n",
       "       55378.87022305, 55387.02662158, 55395.18302011, 55403.33941865,\n",
       "       55411.49581718, 55419.65221572, 55427.80861425, 55435.96501279,\n",
       "       55444.12141132, 55452.27780986, 55460.43420839, 55468.59060693,\n",
       "       55476.74700546, 55484.903404  , 55493.05980253, 55501.21620107,\n",
       "       55509.3725996 , 55517.52899814, 55525.68539667, 55533.84179521,\n",
       "       55541.99819374, 55550.15459228, 55558.31099081, 55566.46738935,\n",
       "       55574.62378788, 55582.78018641, 55590.93658495, 55599.09298348,\n",
       "       55607.24938202, 55615.40578055, 55623.56217909, 55631.71857762,\n",
       "       55639.87497616, 55648.03137469, 55656.18777323, 55664.34417176,\n",
       "       55672.5005703 , 55680.65696883, 55688.81336737, 55696.9697659 ,\n",
       "       55705.12616444, 55713.28256297, 55721.43896151, 55729.59536004,\n",
       "       55737.75175858, 55745.90815711, 55754.06455564, 55762.22095418,\n",
       "       55770.37735271, 55778.53375125, 55786.69014978, 55794.84654832,\n",
       "       55803.00294685, 55811.15934539, 55819.31574392, 55827.47214246,\n",
       "       55835.62854099, 55843.78493953, 55851.94133806, 55860.0977366 ,\n",
       "       55868.25413513, 55876.41053367, 55884.5669322 , 55892.72333074,\n",
       "       55900.87972927, 55909.03612781, 55917.19252634, 55925.34892488,\n",
       "       55933.50532341, 55941.66172194, 55949.81812048, 55957.97451901,\n",
       "       55966.13091755, 55974.28731608, 55982.44371462, 55990.60011315,\n",
       "       55998.75651169, 56006.91291022, 56015.06930876, 56023.22570729,\n",
       "       56031.38210583, 56039.53850436, 56047.6949029 , 56055.85130143,\n",
       "       56064.00769997, 56072.1640985 , 56080.32049704, 56088.47689581,\n",
       "       56096.63329434, 56104.78969288, 56112.94609141, 56121.10248995,\n",
       "       56129.25888848, 56137.41528702, 56145.57168555, 56153.72808409,\n",
       "       56161.88448262, 56170.04088116, 56178.19727969, 56186.35367823,\n",
       "       56194.51007676, 56202.6664753 , 56210.82287383, 56218.97927237,\n",
       "       56227.1356709 , 56235.29206944, 56243.44846797, 56251.6048665 ,\n",
       "       56259.76126504, 56267.91766357, 56276.07406211, 56284.23046064,\n",
       "       56292.38685918, 56300.54325771, 56308.69965625, 56316.85605478,\n",
       "       56325.01245332, 56333.16885185, 56341.32525039, 56349.48164892,\n",
       "       56357.63804746, 56365.79444599, 56373.95084453, 56382.10724306,\n",
       "       56390.2636416 , 56398.42004013, 56406.57643867, 56414.7328372 ,\n",
       "       56422.88923573, 56431.04563427, 56439.2020328 , 56447.35843134,\n",
       "       56455.51482987, 56463.67122841, 56471.82762694, 56479.98402548,\n",
       "       56488.14042401, 56496.29682255, 56504.45322108, 56512.60961962,\n",
       "       56520.76601815, 56528.92241669, 56537.07881522, 56545.23521376,\n",
       "       56553.39161229, 56561.54801083, 56569.70440936, 56577.8608079 ,\n",
       "       56586.01720643, 56594.17360497, 56602.3300035 , 56610.48640203,\n",
       "       56618.64280057, 56626.7991991 , 56634.95559764, 56643.11199617,\n",
       "       56651.26839471, 56659.42479324, 56667.58119178, 56675.73759031,\n",
       "       56683.89398885, 56692.05038738, 56700.20678592, 56708.36318445,\n",
       "       56716.51958299, 56724.67598152, 56732.83238006, 56740.98877859,\n",
       "       56749.14517713, 56757.30157566, 56765.4579742 , 56773.61437273,\n",
       "       56781.77077127, 56789.9271698 , 56798.08356833, 56806.23996687,\n",
       "       56814.3963654 , 56822.55276394, 56830.70916247, 56838.86556101,\n",
       "       56847.02195954, 56855.17835808, 56863.33475685, 56871.49115539,\n",
       "       56879.64755392, 56887.80395246, 56895.96035099, 56904.11674953,\n",
       "       56912.27314806, 56920.42954659, 56928.58594513, 56936.74234366,\n",
       "       56944.8987422 , 56953.05514073, 56961.21153927, 56969.3679378 ,\n",
       "       56977.52433634, 56985.68073487, 56993.83713341, 57001.99353194,\n",
       "       57010.14993048, 57018.30632901, 57026.46272755, 57034.61912608,\n",
       "       57042.77552462, 57050.93192315, 57059.08832169, 57067.24472022,\n",
       "       57075.40111876, 57083.55751729, 57091.71391582, 57099.87031436,\n",
       "       57108.02671289, 57116.18311143, 57124.33950996, 57132.4959085 ,\n",
       "       57140.65230703, 57148.80870557, 57156.9651041 , 57165.12150264,\n",
       "       57173.27790117, 57181.43429971, 57189.59069824, 57197.74709678,\n",
       "       57205.90349531, 57214.05989385, 57222.21629238, 57230.37269092,\n",
       "       57238.52908945, 57246.68548799, 57254.84188652, 57262.99828506,\n",
       "       57271.15468359, 57279.31108212, 57287.46748066, 57295.62387919,\n",
       "       57303.78027773, 57311.93667626, 57320.0930748 , 57328.24947333,\n",
       "       57336.40587187, 57344.5622704 , 57352.71866894, 57360.87506747,\n",
       "       57369.03146601, 57377.18786454, 57385.34426308, 57393.50066161,\n",
       "       57401.65706015, 57409.81345868, 57417.96985722, 57426.12625575,\n",
       "       57434.28265429, 57442.43905282, 57450.59545135, 57458.75184989,\n",
       "       57466.90824842, 57475.06464696, 57483.22104549, 57491.37744403,\n",
       "       57499.53384256, 57507.6902411 , 57515.84663963, 57524.00303817,\n",
       "       57532.1594367 , 57540.31583524, 57548.47223377, 57556.62863231,\n",
       "       57564.78503084, 57572.94142938, 57581.09782791, 57589.25422645,\n",
       "       57597.41062498, 57605.56702352, 57613.72342205, 57621.87982059,\n",
       "       57630.03621912, 57638.19261765, 57646.34901643, 57654.50541496,\n",
       "       57662.6618135 , 57670.81821203, 57678.97461057, 57687.1310091 ,\n",
       "       57695.28740764, 57703.44380617, 57711.60020471, 57719.75660324,\n",
       "       57727.91300178, 57736.06940031, 57744.22579885, 57752.38219738,\n",
       "       57760.53859591, 57768.69499445, 57776.85139298, 57785.00779152,\n",
       "       57793.16419005, 57801.32058859, 57809.47698712, 57817.63338566,\n",
       "       57825.78978419, 57833.94618273, 57842.10258126])"
      ]
     },
     "execution_count": 22,
     "metadata": {},
     "output_type": "execute_result"
    }
   ],
   "source": [
    "#predicted values\n",
    "\n",
    "y_pred"
   ]
  },
  {
   "cell_type": "code",
   "execution_count": 23,
   "metadata": {},
   "outputs": [
    {
     "data": {
      "text/plain": [
       "375"
      ]
     },
     "execution_count": 23,
     "metadata": {},
     "output_type": "execute_result"
    }
   ],
   "source": [
    "len(y_pred)"
   ]
  },
  {
   "cell_type": "code",
   "execution_count": 24,
   "metadata": {},
   "outputs": [
    {
     "data": {
      "text/html": [
       "<div>\n",
       "<style scoped>\n",
       "    .dataframe tbody tr th:only-of-type {\n",
       "        vertical-align: middle;\n",
       "    }\n",
       "\n",
       "    .dataframe tbody tr th {\n",
       "        vertical-align: top;\n",
       "    }\n",
       "\n",
       "    .dataframe thead th {\n",
       "        text-align: right;\n",
       "    }\n",
       "</style>\n",
       "<table border=\"1\" class=\"dataframe\">\n",
       "  <thead>\n",
       "    <tr style=\"text-align: right;\">\n",
       "      <th></th>\n",
       "      <th>id</th>\n",
       "      <th>feature_2</th>\n",
       "    </tr>\n",
       "  </thead>\n",
       "  <tbody>\n",
       "    <tr>\n",
       "      <td>0</td>\n",
       "      <td>564</td>\n",
       "      <td>54791.609528</td>\n",
       "    </tr>\n",
       "    <tr>\n",
       "      <td>1</td>\n",
       "      <td>565</td>\n",
       "      <td>54799.765927</td>\n",
       "    </tr>\n",
       "    <tr>\n",
       "      <td>2</td>\n",
       "      <td>566</td>\n",
       "      <td>54807.922325</td>\n",
       "    </tr>\n",
       "    <tr>\n",
       "      <td>3</td>\n",
       "      <td>567</td>\n",
       "      <td>54816.078724</td>\n",
       "    </tr>\n",
       "    <tr>\n",
       "      <td>4</td>\n",
       "      <td>568</td>\n",
       "      <td>54824.235122</td>\n",
       "    </tr>\n",
       "    <tr>\n",
       "      <td>...</td>\n",
       "      <td>...</td>\n",
       "      <td>...</td>\n",
       "    </tr>\n",
       "    <tr>\n",
       "      <td>370</td>\n",
       "      <td>934</td>\n",
       "      <td>57809.476987</td>\n",
       "    </tr>\n",
       "    <tr>\n",
       "      <td>371</td>\n",
       "      <td>935</td>\n",
       "      <td>57817.633386</td>\n",
       "    </tr>\n",
       "    <tr>\n",
       "      <td>372</td>\n",
       "      <td>936</td>\n",
       "      <td>57825.789784</td>\n",
       "    </tr>\n",
       "    <tr>\n",
       "      <td>373</td>\n",
       "      <td>937</td>\n",
       "      <td>57833.946183</td>\n",
       "    </tr>\n",
       "    <tr>\n",
       "      <td>374</td>\n",
       "      <td>938</td>\n",
       "      <td>57842.102581</td>\n",
       "    </tr>\n",
       "  </tbody>\n",
       "</table>\n",
       "<p>375 rows × 2 columns</p>\n",
       "</div>"
      ],
      "text/plain": [
       "      id     feature_2\n",
       "0    564  54791.609528\n",
       "1    565  54799.765927\n",
       "2    566  54807.922325\n",
       "3    567  54816.078724\n",
       "4    568  54824.235122\n",
       "..   ...           ...\n",
       "370  934  57809.476987\n",
       "371  935  57817.633386\n",
       "372  936  57825.789784\n",
       "373  937  57833.946183\n",
       "374  938  57842.102581\n",
       "\n",
       "[375 rows x 2 columns]"
      ]
     },
     "execution_count": 24,
     "metadata": {},
     "output_type": "execute_result"
    }
   ],
   "source": [
    "test_result=pd.DataFrame({\"id\": ids, \"feature_2\":y_pred})\n",
    "test_result"
   ]
  },
  {
   "cell_type": "raw",
   "metadata": {},
   "source": [
    "test_result.to_csv(\"C:/Users/This pc/Desktop/solution.csv\", index=False)"
   ]
  },
  {
   "cell_type": "code",
   "execution_count": null,
   "metadata": {},
   "outputs": [],
   "source": []
  }
 ],
 "metadata": {
  "kernelspec": {
   "display_name": "Python 3",
   "language": "python",
   "name": "python3"
  },
  "language_info": {
   "codemirror_mode": {
    "name": "ipython",
    "version": 3
   },
   "file_extension": ".py",
   "mimetype": "text/x-python",
   "name": "python",
   "nbconvert_exporter": "python",
   "pygments_lexer": "ipython3",
   "version": "3.7.4"
  }
 },
 "nbformat": 4,
 "nbformat_minor": 2
}
