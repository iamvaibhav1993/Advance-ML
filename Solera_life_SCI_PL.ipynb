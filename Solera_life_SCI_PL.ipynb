{
 "cells": [
  {
   "cell_type": "code",
   "execution_count": 1,
   "metadata": {},
   "outputs": [
    {
     "name": "stdout",
     "output_type": "stream",
     "text": [
      " Angizem CD 120 Capsule ER is used to treat angina (heart-related chest pain), high blood pressure and some types of irregular heartbeats (arrhythmia). This helps to reduce the workload of the heart.Angizem CD 120 Capsule ER may be taken with or without food, but it is better to take it regularly at a fixed time each day as advised by your doctor. This medicine is only part of a treatment program that should include a healthy diet, regular exercise, and weight reduction as advised by your doctor.Common side effects seen with this medicine include headache, constipation, dizziness, fatigue, nausea, flushing and rash. Drinking alcohol should be avoided while taking this medicine as it may worsen the side effects.Before taking this medicine, let your doctor know if you have any liver or kidney problems. Also, inform your doctor if you have very low blood pressure (hypotension), heart failure, or if you recently had a heart attack and have fluid in your lungs.\n"
     ]
    }
   ],
   "source": [
    "# importing libraries \n",
    "import nltk \n",
    "from nltk.corpus import stopwords \n",
    "from nltk.tokenize import word_tokenize, sent_tokenize \n",
    "import pandas as pd\n",
    "\n",
    "# Input text - to summarize \n",
    "text = pd.read_excel(\"D:/TASK.xlsx\")\n",
    "data=text.rename(columns = {'Unnamed: 1':'TEST'})\n",
    "data\n",
    "dt=data.drop(['TEST DATASET'], axis=1)\n",
    "#print(dt)\n",
    "for i in dt['TEST']:\n",
    "#    print(i)\n",
    "\n",
    "    stop_words = set(stopwords.words('english')) \n",
    "  \n",
    "    word_tokens = word_tokenize(i) \n",
    "  \n",
    "filtered_sentence = [w for w in word_tokens if not w in stop_words] \n",
    "  \n",
    "filtered_sentence = [] \n",
    "  \n",
    "for w in word_tokens: \n",
    "    if w not in stop_words: \n",
    "        filtered_sentence.append(w) \n",
    "#print(\"Orignal String:\\n\" +dt)\n",
    "#print(word_tokens) \n",
    "#print(\"\\nafter removing stopwords\\n\")\n",
    "#' '.join(filtered_sentence)\n",
    "#print(filtered_sentence) \n",
    "\n",
    "# Creating a frequency table to keep the \n",
    "# score of each word \n",
    "\n",
    "freqTable = dict() \n",
    "for word in word_tokens:\n",
    "    word = word.lower() \n",
    "    if word in stop_words:\n",
    "        continue\n",
    "    if word in freqTable:\n",
    "        freqTable[word] += 1\n",
    "    else:\n",
    "        freqTable[word] = 1\n",
    "    \n",
    "# Creating a dictionary to keep the score \n",
    "# of each sentence \n",
    "sentences = sent_tokenize(i) \n",
    "sentenceValue = dict() \n",
    "\n",
    "for sentence in sentences:\n",
    "    for word, freq in freqTable.items():\n",
    "        if word in sentence.lower():\n",
    "            if sentence in sentenceValue: \n",
    "                sentenceValue[sentence] += freq \n",
    "            else: \n",
    "                sentenceValue[sentence] = freq \n",
    "\n",
    "sumValues = 0\n",
    "for sentence in sentenceValue:\n",
    "    sumValues += sentenceValue[sentence] \n",
    "\n",
    "\n",
    "# Average value of a sentence from the original text \n",
    "\n",
    "average = int(sumValues / len(sentenceValue)) \n",
    "\n",
    "# Storing sentences into our summary. \n",
    "summary = '' \n",
    "for sentence in sentences:\n",
    "    if (sentence in sentenceValue) and (sentenceValue[sentence] > (1.2 * average)):\n",
    "        summary += \" \" + sentence \n",
    "print(summary) "
   ]
  },
  {
   "cell_type": "code",
   "execution_count": null,
   "metadata": {},
   "outputs": [],
   "source": []
  }
 ],
 "metadata": {
  "kernelspec": {
   "display_name": "Python 3",
   "language": "python",
   "name": "python3"
  },
  "language_info": {
   "codemirror_mode": {
    "name": "ipython",
    "version": 3
   },
   "file_extension": ".py",
   "mimetype": "text/x-python",
   "name": "python",
   "nbconvert_exporter": "python",
   "pygments_lexer": "ipython3",
   "version": "3.7.4"
  }
 },
 "nbformat": 4,
 "nbformat_minor": 2
}
